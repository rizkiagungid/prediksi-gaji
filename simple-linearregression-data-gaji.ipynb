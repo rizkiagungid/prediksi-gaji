{
 "cells": [
  {
   "cell_type": "code",
   "execution_count": 1,
   "id": "866591c3",
   "metadata": {
    "_cell_guid": "b1076dfc-b9ad-4769-8c92-a6c4dae69d19",
    "_uuid": "8f2839f25d086af736a60e9eeb907d3b93b6e0e5",
    "execution": {
     "iopub.execute_input": "2021-09-16T03:41:32.989919Z",
     "iopub.status.busy": "2021-09-16T03:41:32.989349Z",
     "iopub.status.idle": "2021-09-16T03:41:33.013130Z",
     "shell.execute_reply": "2021-09-16T03:41:33.013578Z",
     "shell.execute_reply.started": "2021-09-16T02:32:28.844423Z"
    },
    "papermill": {
     "duration": 0.043059,
     "end_time": "2021-09-16T03:41:33.013857",
     "exception": false,
     "start_time": "2021-09-16T03:41:32.970798",
     "status": "completed"
    },
    "tags": []
   },
   "outputs": [
    {
     "ename": "ModuleNotFoundError",
     "evalue": "No module named 'numpy'",
     "output_type": "error",
     "traceback": [
      "\u001b[1;31m---------------------------------------------------------------------------\u001b[0m",
      "\u001b[1;31mModuleNotFoundError\u001b[0m                       Traceback (most recent call last)",
      "Cell \u001b[1;32mIn[1], line 5\u001b[0m\n\u001b[0;32m      1\u001b[0m \u001b[39m# This Python 3 environment comes with many helpful analytics libraries installed\u001b[39;00m\n\u001b[0;32m      2\u001b[0m \u001b[39m# It is defined by the kaggle/python Docker image: https://github.com/kaggle/docker-python\u001b[39;00m\n\u001b[0;32m      3\u001b[0m \u001b[39m# For example, here's several helpful packages to load\u001b[39;00m\n\u001b[1;32m----> 5\u001b[0m \u001b[39mimport\u001b[39;00m \u001b[39mnumpy\u001b[39;00m \u001b[39mas\u001b[39;00m \u001b[39mnp\u001b[39;00m \u001b[39m# linear algebra\u001b[39;00m\n\u001b[0;32m      6\u001b[0m \u001b[39mimport\u001b[39;00m \u001b[39mpandas\u001b[39;00m \u001b[39mas\u001b[39;00m \u001b[39mpd\u001b[39;00m \u001b[39m# data processing, CSV file I/O (e.g. pd.read_csv)\u001b[39;00m\n\u001b[0;32m      8\u001b[0m \u001b[39m# Input data files are available in the read-only \"../input/\" directory\u001b[39;00m\n\u001b[0;32m      9\u001b[0m \u001b[39m# For example, running this (by clicking run or pressing Shift+Enter) will list all files under the input directory\u001b[39;00m\n",
      "\u001b[1;31mModuleNotFoundError\u001b[0m: No module named 'numpy'"
     ]
    }
   ],
   "source": [
    "# This Python 3 environment comes with many helpful analytics libraries installed\n",
    "# It is defined by the kaggle/python Docker image: https://github.com/kaggle/docker-python\n",
    "# For example, here's several helpful packages to load\n",
    "\n",
    "import numpy as np # linear algebra\n",
    "import pandas as pd # data processing, CSV file I/O (e.g. pd.read_csv)\n",
    "\n",
    "# Input data files are available in the read-only \"../input/\" directory\n",
    "# For example, running this (by clicking run or pressing Shift+Enter) will list all files under the input directory\n",
    "\n",
    "import os\n",
    "for dirname, _, filenames in os.walk('/kaggle/input'):\n",
    "    for filename in filenames:\n",
    "        print(os.path.join(dirname, filename))\n",
    "\n",
    "# You can write up to 20GB to the current directory (/kaggle/working/) that gets preserved as output when you create a version using \"Save & Run All\" \n",
    "# You can also write temporary files to /kaggle/temp/, but they won't be saved outside of the current session"
   ]
  },
  {
   "cell_type": "code",
   "execution_count": null,
   "id": "e41f144a",
   "metadata": {},
   "outputs": [],
   "source": []
  },
  {
   "cell_type": "markdown",
   "id": "734e3095",
   "metadata": {},
   "source": []
  },
  {
   "cell_type": "markdown",
   "id": "fbdf88b1",
   "metadata": {},
   "source": []
  },
  {
   "cell_type": "code",
   "execution_count": null,
   "id": "7146ce85",
   "metadata": {
    "execution": {
     "iopub.execute_input": "2021-09-16T03:41:33.033678Z",
     "iopub.status.busy": "2021-09-16T03:41:33.031746Z",
     "iopub.status.idle": "2021-09-16T03:41:33.785627Z",
     "shell.execute_reply": "2021-09-16T03:41:33.785116Z",
     "shell.execute_reply.started": "2021-09-16T02:33:22.208474Z"
    },
    "papermill": {
     "duration": 0.763748,
     "end_time": "2021-09-16T03:41:33.785754",
     "exception": false,
     "start_time": "2021-09-16T03:41:33.022006",
     "status": "completed"
    },
    "tags": []
   },
   "outputs": [],
   "source": [
    "# memanggil library untuk sciecetifik dan matematika\n",
    "import numpy as np\n",
    "\n",
    "#memanggil library untuk manipulasi data (mengubah dimensi data dan lain lain)\n",
    "import pandas as pd\n",
    "\n",
    "#memanggil library untuk membuat grafik plot\n",
    "import matplotlib.pyplot as plt\n",
    "\n",
    "#memanggil library untuk algoritma machine learning terutama regresi linear\n",
    "import sklearn"
   ]
  },
  {
   "cell_type": "code",
   "execution_count": null,
   "id": "edf8082a",
   "metadata": {
    "execution": {
     "iopub.execute_input": "2021-09-16T03:41:33.805195Z",
     "iopub.status.busy": "2021-09-16T03:41:33.804584Z",
     "iopub.status.idle": "2021-09-16T03:41:33.815673Z",
     "shell.execute_reply": "2021-09-16T03:41:33.815244Z",
     "shell.execute_reply.started": "2021-09-16T02:39:39.411514Z"
    },
    "papermill": {
     "duration": 0.022825,
     "end_time": "2021-09-16T03:41:33.815800",
     "exception": false,
     "start_time": "2021-09-16T03:41:33.792975",
     "status": "completed"
    },
    "tags": []
   },
   "outputs": [],
   "source": [
    "#memanggil dataset\n",
    "#pastikan data sudah di upload ke dalam HOME atau satu folder di HOME\n",
    "#pastikan data sudah CSV\n",
    "dataset = pd.read_csv('/kaggle/input/data-gaji/Data Gaji.csv')\n",
    "#sumbu X adalah tahun, sumbu Y adalah gaji\n",
    "x = dataset.iloc[:, :-1].values\n",
    "y = dataset.iloc[:, 1].values"
   ]
  },
  {
   "cell_type": "code",
   "execution_count": null,
   "id": "9cfb3f2d",
   "metadata": {
    "execution": {
     "iopub.execute_input": "2021-09-16T03:41:33.833315Z",
     "iopub.status.busy": "2021-09-16T03:41:33.832722Z",
     "iopub.status.idle": "2021-09-16T03:41:33.846870Z",
     "shell.execute_reply": "2021-09-16T03:41:33.846423Z",
     "shell.execute_reply.started": "2021-09-16T02:39:59.47118Z"
    },
    "papermill": {
     "duration": 0.024024,
     "end_time": "2021-09-16T03:41:33.847020",
     "exception": false,
     "start_time": "2021-09-16T03:41:33.822996",
     "status": "completed"
    },
    "tags": []
   },
   "outputs": [
    {
     "data": {
      "text/html": [
       "<div>\n",
       "<style scoped>\n",
       "    .dataframe tbody tr th:only-of-type {\n",
       "        vertical-align: middle;\n",
       "    }\n",
       "\n",
       "    .dataframe tbody tr th {\n",
       "        vertical-align: top;\n",
       "    }\n",
       "\n",
       "    .dataframe thead th {\n",
       "        text-align: right;\n",
       "    }\n",
       "</style>\n",
       "<table border=\"1\" class=\"dataframe\">\n",
       "  <thead>\n",
       "    <tr style=\"text-align: right;\">\n",
       "      <th></th>\n",
       "      <th>tahun_berkerja</th>\n",
       "      <th>gaji</th>\n",
       "    </tr>\n",
       "  </thead>\n",
       "  <tbody>\n",
       "    <tr>\n",
       "      <th>0</th>\n",
       "      <td>1</td>\n",
       "      <td>3900000</td>\n",
       "    </tr>\n",
       "    <tr>\n",
       "      <th>1</th>\n",
       "      <td>2</td>\n",
       "      <td>4600000</td>\n",
       "    </tr>\n",
       "    <tr>\n",
       "      <th>2</th>\n",
       "      <td>3</td>\n",
       "      <td>3700000</td>\n",
       "    </tr>\n",
       "    <tr>\n",
       "      <th>3</th>\n",
       "      <td>4</td>\n",
       "      <td>4300000</td>\n",
       "    </tr>\n",
       "    <tr>\n",
       "      <th>4</th>\n",
       "      <td>5</td>\n",
       "      <td>3900000</td>\n",
       "    </tr>\n",
       "  </tbody>\n",
       "</table>\n",
       "</div>"
      ],
      "text/plain": [
       "   tahun_berkerja     gaji\n",
       "0               1  3900000\n",
       "1               2  4600000\n",
       "2               3  3700000\n",
       "3               4  4300000\n",
       "4               5  3900000"
      ]
     },
     "execution_count": 4,
     "metadata": {},
     "output_type": "execute_result"
    }
   ],
   "source": [
    "#menampilkan 5 data teratas\n",
    "dataset.head()"
   ]
  },
  {
   "cell_type": "code",
   "execution_count": null,
   "id": "926a63d2",
   "metadata": {
    "execution": {
     "iopub.execute_input": "2021-09-16T03:41:33.865642Z",
     "iopub.status.busy": "2021-09-16T03:41:33.865105Z",
     "iopub.status.idle": "2021-09-16T03:41:34.084227Z",
     "shell.execute_reply": "2021-09-16T03:41:34.084717Z",
     "shell.execute_reply.started": "2021-09-16T02:40:49.731336Z"
    },
    "papermill": {
     "duration": 0.230033,
     "end_time": "2021-09-16T03:41:34.084886",
     "exception": false,
     "start_time": "2021-09-16T03:41:33.854853",
     "status": "completed"
    },
    "tags": []
   },
   "outputs": [
    {
     "data": {
      "image/png": "[encoded data removed]",
      "text/plain": [
       "<Figure size 432x288 with 1 Axes>"
      ]
     },
     "metadata": {
      "needs_background": "light"
     },
     "output_type": "display_data"
    }
   ],
   "source": [
    "#menampilakn sebagian data\n",
    "dataku = pd.DataFrame(dataset)\n",
    "#Visualisasi Data dalam grafik\n",
    "plt.scatter(dataku.tahun_berkerja, dataku.gaji)\n",
    "plt.xlabel(\"tahun\")\n",
    "plt.ylabel(\"gaji\")\n",
    "plt.title(\"tahun vs gaji\")\n",
    "plt.show()"
   ]
  },
  {
   "cell_type": "code",
   "execution_count": null,
   "id": "0df905be",
   "metadata": {
    "execution": {
     "iopub.execute_input": "2021-09-16T03:41:34.105862Z",
     "iopub.status.busy": "2021-09-16T03:41:34.104238Z",
     "iopub.status.idle": "2021-09-16T03:41:34.177339Z",
     "shell.execute_reply": "2021-09-16T03:41:34.178062Z",
     "shell.execute_reply.started": "2021-09-16T02:42:01.612074Z"
    },
    "papermill": {
     "duration": 0.085118,
     "end_time": "2021-09-16T03:41:34.178268",
     "exception": false,
     "start_time": "2021-09-16T03:41:34.093150",
     "status": "completed"
    },
    "tags": []
   },
   "outputs": [],
   "source": [
    "#memecah data training dan data testing\n",
    "#hati hati dengan huruf kapital pada X atau Y\n",
    "#data testing 20% atau 0,2\n",
    "from sklearn.model_selection import train_test_split\n",
    "x_train, x_test, y_train, y_test = \\\n",
    "    train_test_split(x, y, test_size=0.2)"
   ]
  },
  {
   "cell_type": "code",
   "execution_count": null,
   "id": "b5ae0acd",
   "metadata": {
    "execution": {
     "iopub.execute_input": "2021-09-16T03:41:34.201295Z",
     "iopub.status.busy": "2021-09-16T03:41:34.200315Z",
     "iopub.status.idle": "2021-09-16T03:41:34.280987Z",
     "shell.execute_reply": "2021-09-16T03:41:34.279863Z",
     "shell.execute_reply.started": "2021-09-16T02:42:04.276216Z"
    },
    "papermill": {
     "duration": 0.094517,
     "end_time": "2021-09-16T03:41:34.281142",
     "exception": false,
     "start_time": "2021-09-16T03:41:34.186625",
     "status": "completed"
    },
    "tags": []
   },
   "outputs": [
    {
     "data": {
      "text/plain": [
       "LinearRegression()"
      ]
     },
     "execution_count": 7,
     "metadata": {},
     "output_type": "execute_result"
    }
   ],
   "source": [
    "#melakukan fitting regresi simple linear pada training set\n",
    "from sklearn.linear_model import LinearRegression\n",
    "regressor = LinearRegression()\n",
    "regressor.fit(x_train,y_train)"
   ]
  },
  {
   "cell_type": "code",
   "execution_count": null,
   "id": "c30df428",
   "metadata": {
    "execution": {
     "iopub.execute_input": "2021-09-16T03:41:34.318850Z",
     "iopub.status.busy": "2021-09-16T03:41:34.308161Z",
     "iopub.status.idle": "2021-09-16T03:41:34.522188Z",
     "shell.execute_reply": "2021-09-16T03:41:34.522608Z",
     "shell.execute_reply.started": "2021-09-16T02:42:32.501561Z"
    },
    "papermill": {
     "duration": 0.232744,
     "end_time": "2021-09-16T03:41:34.522774",
     "exception": false,
     "start_time": "2021-09-16T03:41:34.290030",
     "status": "completed"
    },
    "tags": []
   },
   "outputs": [
    {
     "data": {
      "image/png": "[encoded data removed]",
      "text/plain": [
       "<Figure size 720x576 with 1 Axes>"
      ]
     },
     "metadata": {
      "needs_background": "light"
     },
     "output_type": "display_data"
    }
   ],
   "source": [
    "plt.figure(figsize=(10,8))\n",
    "\n",
    "#warna biru data observasi dari data asli\n",
    "plt.scatter(x_train, y_train, color='blue')\n",
    "\n",
    "#garis merah adalah prediksi dari machine learning\n",
    "plt.plot(x_train, regressor.predict(x_train), color='red')\n",
    "\n",
    "#pemberian nama judul dan label\n",
    "plt.title('masa kerja terhadap pendapatan')\n",
    "plt.xlabel('masa kerja')\n",
    "plt.ylabel('pendapatan')\n",
    "plt.show()"
   ]
  },
  {
   "cell_type": "code",
   "execution_count": null,
   "id": "abe999ed",
   "metadata": {
    "execution": {
     "iopub.execute_input": "2021-09-16T03:41:34.545175Z",
     "iopub.status.busy": "2021-09-16T03:41:34.544291Z",
     "iopub.status.idle": "2021-09-16T03:41:34.731399Z",
     "shell.execute_reply": "2021-09-16T03:41:34.731781Z",
     "shell.execute_reply.started": "2021-09-16T02:42:50.78095Z"
    },
    "papermill": {
     "duration": 0.19972,
     "end_time": "2021-09-16T03:41:34.731971",
     "exception": false,
     "start_time": "2021-09-16T03:41:34.532251",
     "status": "completed"
    },
    "tags": []
   },
   "outputs": [
    {
     "data": {
      "image/png": "[encoded data removed]",
      "text/plain": [
       "<Figure size 432x288 with 1 Axes>"
      ]
     },
     "metadata": {
      "needs_background": "light"
     },
     "output_type": "display_data"
    }
   ],
   "source": [
    "#warna hijau data testing 20% (0,2)\n",
    "plt.scatter(x_test, y_test, color='green')\n",
    "\n",
    "#garis hitam adalah prediksi dari machine learning\n",
    "plt.plot(x_test, regressor.predict(x_test), color='black')\n",
    "\n",
    "#pemberian nama judul dan label\n",
    "plt.title('masa kerja terhadap pendapatan (testing)')\n",
    "plt.xlabel('masa kerja')\n",
    "plt.ylabel('pendapatan')\n",
    "plt.show()"
   ]
  },
  {
   "cell_type": "code",
   "execution_count": null,
   "id": "ea59ecb3",
   "metadata": {
    "execution": {
     "iopub.execute_input": "2021-09-16T03:41:34.754907Z",
     "iopub.status.busy": "2021-09-16T03:41:34.754340Z",
     "iopub.status.idle": "2021-09-16T03:41:34.757011Z",
     "shell.execute_reply": "2021-09-16T03:41:34.757402Z"
    },
    "papermill": {
     "duration": 0.015683,
     "end_time": "2021-09-16T03:41:34.757568",
     "exception": false,
     "start_time": "2021-09-16T03:41:34.741885",
     "status": "completed"
    },
    "tags": []
   },
   "outputs": [],
   "source": [
    "#memprediksi data secara sederhana dengan data real yang ada"
   ]
  }
 ],
 "metadata": {
  "kernelspec": {
   "display_name": "Python 3",
   "language": "python",
   "name": "python3"
  },
  "language_info": {
   "codemirror_mode": {
    "name": "ipython",
    "version": 3
   },
   "file_extension": ".py",
   "mimetype": "text/x-python",
   "name": "python",
   "nbconvert_exporter": "python",
   "pygments_lexer": "ipython3",
   "version": "3.10.8"
  },
  "papermill": {
   "default_parameters": {},
   "duration": 9.665322,
   "end_time": "2021-09-16T03:41:35.980633",
   "environment_variables": {},
   "exception": null,
   "input_path": "__notebook__.ipynb",
   "output_path": "__notebook__.ipynb",
   "parameters": {},
   "start_time": "2021-09-16T03:41:26.315311",
   "version": "2.3.3"
  },
  "vscode": {
   "interpreter": {
    "hash": "c2658d8ca2760576e7f9517e2e51c2502e6fe089e7b4f61d1da0677294c016ae"
   }
  }
 },
 "nbformat": 4,
 "nbformat_minor": 5
}
